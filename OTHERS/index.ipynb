{
 "cells": [
  {
   "cell_type": "code",
   "execution_count": 1,
   "metadata": {},
   "outputs": [],
   "source": [
    "import pandas as pd"
   ]
  },
  {
   "cell_type": "code",
   "execution_count": 3,
   "metadata": {},
   "outputs": [
    {
     "name": "stdout",
     "output_type": "stream",
     "text": [
      "<class 'pandas.core.frame.DataFrame'>\n",
      "RangeIndex: 3333 entries, 0 to 3332\n",
      "Data columns (total 21 columns):\n",
      " #   Column                  Non-Null Count  Dtype  \n",
      "---  ------                  --------------  -----  \n",
      " 0   state                   3333 non-null   object \n",
      " 1   account length          3333 non-null   int64  \n",
      " 2   area code               3333 non-null   int64  \n",
      " 3   phone number            3333 non-null   object \n",
      " 4   international plan      3333 non-null   object \n",
      " 5   voice mail plan         3333 non-null   object \n",
      " 6   number vmail messages   3333 non-null   int64  \n",
      " 7   total day minutes       3333 non-null   float64\n",
      " 8   total day calls         3333 non-null   int64  \n",
      " 9   total day charge        3333 non-null   float64\n",
      " 10  total eve minutes       3333 non-null   float64\n",
      " 11  total eve calls         3333 non-null   int64  \n",
      " 12  total eve charge        3333 non-null   float64\n",
      " 13  total night minutes     3333 non-null   float64\n",
      " 14  total night calls       3333 non-null   int64  \n",
      " 15  total night charge      3333 non-null   float64\n",
      " 16  total intl minutes      3333 non-null   float64\n",
      " 17  total intl calls        3333 non-null   int64  \n",
      " 18  total intl charge       3333 non-null   float64\n",
      " 19  customer service calls  3333 non-null   int64  \n",
      " 20  churn                   3333 non-null   bool   \n",
      "dtypes: bool(1), float64(8), int64(8), object(4)\n",
      "memory usage: 524.2+ KB\n"
     ]
    }
   ],
   "source": [
    "df1 = pd.read_csv('./data/#1 - telecom/telecom.csv')\n",
    "df1.info()"
   ]
  },
  {
   "cell_type": "code",
   "execution_count": 6,
   "metadata": {},
   "outputs": [
    {
     "name": "stdout",
     "output_type": "stream",
     "text": [
      "<class 'pandas.core.frame.DataFrame'>\n",
      "RangeIndex: 14850 entries, 0 to 14849\n",
      "Data columns (total 40 columns):\n",
      " #   Column                 Non-Null Count  Dtype  \n",
      "---  ------                 --------------  -----  \n",
      " 0   id                     14850 non-null  int64  \n",
      " 1   amount_tsh             14850 non-null  float64\n",
      " 2   date_recorded          14850 non-null  object \n",
      " 3   funder                 13980 non-null  object \n",
      " 4   gps_height             14850 non-null  int64  \n",
      " 5   installer              13973 non-null  object \n",
      " 6   longitude              14850 non-null  float64\n",
      " 7   latitude               14850 non-null  float64\n",
      " 8   wpt_name               14850 non-null  object \n",
      " 9   num_private            14850 non-null  int64  \n",
      " 10  basin                  14850 non-null  object \n",
      " 11  subvillage             14751 non-null  object \n",
      " 12  region                 14850 non-null  object \n",
      " 13  region_code            14850 non-null  int64  \n",
      " 14  district_code          14850 non-null  int64  \n",
      " 15  lga                    14850 non-null  object \n",
      " 16  ward                   14850 non-null  object \n",
      " 17  population             14850 non-null  int64  \n",
      " 18  public_meeting         14029 non-null  object \n",
      " 19  recorded_by            14850 non-null  object \n",
      " 20  scheme_management      13881 non-null  object \n",
      " 21  scheme_name            7608 non-null   object \n",
      " 22  permit                 14113 non-null  object \n",
      " 23  construction_year      14850 non-null  int64  \n",
      " 24  extraction_type        14850 non-null  object \n",
      " 25  extraction_type_group  14850 non-null  object \n",
      " 26  extraction_type_class  14850 non-null  object \n",
      " 27  management             14850 non-null  object \n",
      " 28  management_group       14850 non-null  object \n",
      " 29  payment                14850 non-null  object \n",
      " 30  payment_type           14850 non-null  object \n",
      " 31  water_quality          14850 non-null  object \n",
      " 32  quality_group          14850 non-null  object \n",
      " 33  quantity               14850 non-null  object \n",
      " 34  quantity_group         14850 non-null  object \n",
      " 35  source                 14850 non-null  object \n",
      " 36  source_type            14850 non-null  object \n",
      " 37  source_class           14850 non-null  object \n",
      " 38  waterpoint_type        14850 non-null  object \n",
      " 39  waterpoint_type_group  14850 non-null  object \n",
      "dtypes: float64(3), int64(7), object(30)\n",
      "memory usage: 4.5+ MB\n"
     ]
    }
   ],
   "source": [
    "df2 = pd.read_csv('./data/#2 - tz wells/test_set_values.csv')\n",
    "df2.info()"
   ]
  },
  {
   "cell_type": "code",
   "execution_count": 8,
   "metadata": {},
   "outputs": [
    {
     "name": "stdout",
     "output_type": "stream",
     "text": [
      "<class 'pandas.core.frame.DataFrame'>\n",
      "RangeIndex: 26708 entries, 0 to 26707\n",
      "Data columns (total 36 columns):\n",
      " #   Column                       Non-Null Count  Dtype  \n",
      "---  ------                       --------------  -----  \n",
      " 0   respondent_id                26708 non-null  int64  \n",
      " 1   h1n1_concern                 26623 non-null  float64\n",
      " 2   h1n1_knowledge               26586 non-null  float64\n",
      " 3   behavioral_antiviral_meds    26629 non-null  float64\n",
      " 4   behavioral_avoidance         26495 non-null  float64\n",
      " 5   behavioral_face_mask         26689 non-null  float64\n",
      " 6   behavioral_wash_hands        26668 non-null  float64\n",
      " 7   behavioral_large_gatherings  26636 non-null  float64\n",
      " 8   behavioral_outside_home      26626 non-null  float64\n",
      " 9   behavioral_touch_face        26580 non-null  float64\n",
      " 10  doctor_recc_h1n1             24548 non-null  float64\n",
      " 11  doctor_recc_seasonal         24548 non-null  float64\n",
      " 12  chronic_med_condition        25776 non-null  float64\n",
      " 13  child_under_6_months         25895 non-null  float64\n",
      " 14  health_worker                25919 non-null  float64\n",
      " 15  health_insurance             14480 non-null  float64\n",
      " 16  opinion_h1n1_vacc_effective  26310 non-null  float64\n",
      " 17  opinion_h1n1_risk            26328 non-null  float64\n",
      " 18  opinion_h1n1_sick_from_vacc  26333 non-null  float64\n",
      " 19  opinion_seas_vacc_effective  26256 non-null  float64\n",
      " 20  opinion_seas_risk            26209 non-null  float64\n",
      " 21  opinion_seas_sick_from_vacc  26187 non-null  float64\n",
      " 22  age_group                    26708 non-null  object \n",
      " 23  education                    25301 non-null  object \n",
      " 24  race                         26708 non-null  object \n",
      " 25  sex                          26708 non-null  object \n",
      " 26  income_poverty               22211 non-null  object \n",
      " 27  marital_status               25266 non-null  object \n",
      " 28  rent_or_own                  24672 non-null  object \n",
      " 29  employment_status            25237 non-null  object \n",
      " 30  hhs_geo_region               26708 non-null  object \n",
      " 31  census_msa                   26708 non-null  object \n",
      " 32  household_adults             26483 non-null  float64\n",
      " 33  household_children           26483 non-null  float64\n",
      " 34  employment_industry          13433 non-null  object \n",
      " 35  employment_occupation        13282 non-null  object \n",
      "dtypes: float64(23), int64(1), object(12)\n",
      "memory usage: 7.3+ MB\n"
     ]
    }
   ],
   "source": [
    "df3 = pd.read_csv('./data/#3 - h1n1 and flu/test_set_features.csv')\n",
    "df3.info()"
   ]
  },
  {
   "cell_type": "code",
   "execution_count": 9,
   "metadata": {},
   "outputs": [
    {
     "name": "stdout",
     "output_type": "stream",
     "text": [
      "<class 'pandas.core.frame.DataFrame'>\n",
      "RangeIndex: 781278 entries, 0 to 781277\n",
      "Data columns (total 49 columns):\n",
      " #   Column                         Non-Null Count   Dtype  \n",
      "---  ------                         --------------   -----  \n",
      " 0   CRASH_RECORD_ID                781278 non-null  object \n",
      " 1   RD_NO                          777039 non-null  object \n",
      " 2   CRASH_DATE_EST_I               58674 non-null   object \n",
      " 3   CRASH_DATE                     781278 non-null  object \n",
      " 4   POSTED_SPEED_LIMIT             781278 non-null  int64  \n",
      " 5   TRAFFIC_CONTROL_DEVICE         781278 non-null  object \n",
      " 6   DEVICE_CONDITION               781278 non-null  object \n",
      " 7   WEATHER_CONDITION              781278 non-null  object \n",
      " 8   LIGHTING_CONDITION             781278 non-null  object \n",
      " 9   FIRST_CRASH_TYPE               781278 non-null  object \n",
      " 10  TRAFFICWAY_TYPE                781278 non-null  object \n",
      " 11  LANE_CNT                       199006 non-null  float64\n",
      " 12  ALIGNMENT                      781278 non-null  object \n",
      " 13  ROADWAY_SURFACE_COND           781278 non-null  object \n",
      " 14  ROAD_DEFECT                    781278 non-null  object \n",
      " 15  REPORT_TYPE                    758587 non-null  object \n",
      " 16  CRASH_TYPE                     781278 non-null  object \n",
      " 17  INTERSECTION_RELATED_I         178975 non-null  object \n",
      " 18  NOT_RIGHT_OF_WAY_I             36154 non-null   object \n",
      " 19  HIT_AND_RUN_I                  244050 non-null  object \n",
      " 20  DAMAGE                         781278 non-null  object \n",
      " 21  DATE_POLICE_NOTIFIED           781278 non-null  object \n",
      " 22  PRIM_CONTRIBUTORY_CAUSE        781278 non-null  object \n",
      " 23  SEC_CONTRIBUTORY_CAUSE         781278 non-null  object \n",
      " 24  STREET_NO                      781278 non-null  int64  \n",
      " 25  STREET_DIRECTION               781274 non-null  object \n",
      " 26  STREET_NAME                    781277 non-null  object \n",
      " 27  BEAT_OF_OCCURRENCE             781273 non-null  float64\n",
      " 28  PHOTOS_TAKEN_I                 10143 non-null   object \n",
      " 29  STATEMENTS_TAKEN_I             17139 non-null   object \n",
      " 30  DOORING_I                      2432 non-null    object \n",
      " 31  WORK_ZONE_I                    4543 non-null    object \n",
      " 32  WORK_ZONE_TYPE                 3533 non-null    object \n",
      " 33  WORKERS_PRESENT_I              1161 non-null    object \n",
      " 34  NUM_UNITS                      781278 non-null  int64  \n",
      " 35  MOST_SEVERE_INJURY             779557 non-null  object \n",
      " 36  INJURIES_TOTAL                 779568 non-null  float64\n",
      " 37  INJURIES_FATAL                 779568 non-null  float64\n",
      " 38  INJURIES_INCAPACITATING        779568 non-null  float64\n",
      " 39  INJURIES_NON_INCAPACITATING    779568 non-null  float64\n",
      " 40  INJURIES_REPORTED_NOT_EVIDENT  779568 non-null  float64\n",
      " 41  INJURIES_NO_INDICATION         779568 non-null  float64\n",
      " 42  INJURIES_UNKNOWN               779568 non-null  float64\n",
      " 43  CRASH_HOUR                     781278 non-null  int64  \n",
      " 44  CRASH_DAY_OF_WEEK              781278 non-null  int64  \n",
      " 45  CRASH_MONTH                    781278 non-null  int64  \n",
      " 46  LATITUDE                       776027 non-null  float64\n",
      " 47  LONGITUDE                      776027 non-null  float64\n",
      " 48  LOCATION                       776027 non-null  object \n",
      "dtypes: float64(11), int64(6), object(32)\n",
      "memory usage: 292.1+ MB\n"
     ]
    }
   ],
   "source": [
    "df4 = pd.read_csv('./data/#4 - chicago/Traffic_Crashes_-_Crashes.csv')\n",
    "df4.info()"
   ]
  },
  {
   "cell_type": "code",
   "execution_count": 10,
   "metadata": {},
   "outputs": [
    {
     "name": "stdout",
     "output_type": "stream",
     "text": [
      "<class 'pandas.core.frame.DataFrame'>\n",
      "RangeIndex: 58055 entries, 0 to 58054\n",
      "Data columns (total 23 columns):\n",
      " #   Column                    Non-Null Count  Dtype \n",
      "---  ------                    --------------  ----- \n",
      " 0   Subject Age Group         58055 non-null  object\n",
      " 1   Subject ID                58055 non-null  int64 \n",
      " 2   GO / SC Num               58055 non-null  int64 \n",
      " 3   Terry Stop ID             58055 non-null  int64 \n",
      " 4   Stop Resolution           58055 non-null  object\n",
      " 5   Weapon Type               25490 non-null  object\n",
      " 6   Officer ID                58055 non-null  object\n",
      " 7   Officer YOB               58055 non-null  int64 \n",
      " 8   Officer Gender            58055 non-null  object\n",
      " 9   Officer Race              58055 non-null  object\n",
      " 10  Subject Perceived Race    58055 non-null  object\n",
      " 11  Subject Perceived Gender  58055 non-null  object\n",
      " 12  Reported Date             58055 non-null  object\n",
      " 13  Reported Time             58055 non-null  object\n",
      " 14  Initial Call Type         58055 non-null  object\n",
      " 15  Final Call Type           58055 non-null  object\n",
      " 16  Call Type                 58055 non-null  object\n",
      " 17  Officer Squad             57511 non-null  object\n",
      " 18  Arrest Flag               58055 non-null  object\n",
      " 19  Frisk Flag                58055 non-null  object\n",
      " 20  Precinct                  58055 non-null  object\n",
      " 21  Sector                    58055 non-null  object\n",
      " 22  Beat                      58055 non-null  object\n",
      "dtypes: int64(4), object(19)\n",
      "memory usage: 10.2+ MB\n"
     ]
    }
   ],
   "source": [
    "df5 = pd.read_csv('./data/#5 - terry stops/Terry_Stops.csv')\n",
    "df5.info()"
   ]
  }
 ],
 "metadata": {
  "kernelspec": {
   "display_name": "mwiti-base",
   "language": "python",
   "name": "python3"
  },
  "language_info": {
   "codemirror_mode": {
    "name": "ipython",
    "version": 3
   },
   "file_extension": ".py",
   "mimetype": "text/x-python",
   "name": "python",
   "nbconvert_exporter": "python",
   "pygments_lexer": "ipython3",
   "version": "3.11.4"
  }
 },
 "nbformat": 4,
 "nbformat_minor": 2
}
